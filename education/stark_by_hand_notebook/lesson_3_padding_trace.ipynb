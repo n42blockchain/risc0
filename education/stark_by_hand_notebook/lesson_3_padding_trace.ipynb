{
 "cells": [
  {
   "cell_type": "markdown",
   "metadata": {},
   "source": [
    "# Lesson 3: Padding the Trace\n",
    "\n",
    "In this lesson, we'll examine how the execution trace is padded to a power of two for efficient application of FFT (Fast Fourier Transform) algorithms."
   ]
  },
  {
   "cell_type": "code",
   "execution_count": null,
   "metadata": {},
   "outputs": [],
   "source": [
    "import numpy as np\n",
    "import pandas as pd\n",
    "import matplotlib.pyplot as plt\n",
    "from math import ceil, log2\n",
    "\n",
    "def pad_trace_to_power_of_two(trace):\n",
    "    \"\"\"Pads the trace with zeros to the nearest power of two.\n",
    "    \n",
    "    Args:\n",
    "        trace (pd.DataFrame): Original trace\n",
    "        \n",
    "    Returns:\n",
    "        pd.DataFrame: Padded trace\n",
    "    \"\"\"\n",
    "    # Find nearest power of two\n",
    "    current_length = len(trace)\n",
    "    target_length = 2 ** ceil(log2(current_length))\n",
    "    padding_length = target_length - current_length\n",
    "    \n",
    "    # Create additional rows with zeros\n",
    "    padding_data = pd.DataFrame(\n",
    "        np.zeros((padding_length, len(trace.columns))),\n",
    "        columns=trace.columns\n",
    "    )\n",
    "    \n",
    "    # Concatenate original trace with padding\n",
    "    padded_trace = pd.concat([trace, padding_data], ignore_index=True)\n",
    "    \n",
    "    return padded_trace"
   ]
  },
  {
   "cell_type": "markdown",
   "metadata": {},
   "source": [
    "## Demonstrating Trace Padding"
   ]
  },
  {
   "cell_type": "code",
   "execution_count": null,
   "metadata": {},
   "outputs": [],
   "source": [
    "# Create original trace\n",
    "from lesson_1_execution_trace import create_fibonacci_trace\n",
    "original_trace = create_fibonacci_trace(3, 5)\n",
    "\n",
    "# Pad the trace\n",
    "padded_trace = pad_trace_to_power_of_two(original_trace)\n",
    "\n",
    "print(\"Original trace size:\", len(original_trace))\n",
    "print(\"Padded trace size:\", len(padded_trace))\n",
    "\n",
    "# Visualization\n",
    "plt.figure(figsize=(15, 6))\n",
    "\n",
    "# Plot for registers\n",
    "plt.subplot(1, 2, 1)\n",
    "for column in padded_trace.columns[:3]:  # Only registers\n",
    "    plt.plot(range(len(padded_trace)), padded_trace[column],\n",
    "             marker='o', label=column)\n",
    "plt.axvline(x=len(original_trace)-0.5, color='r', linestyle='--',\n",
    "            label='Padding Boundary')\n",
    "plt.title('Register Values')\n",
    "plt.xlabel('Step')\n",
    "plt.ylabel('Value')\n",
    "plt.grid(True)\n",
    "plt.legend()\n",
    "\n",
    "# Plot for control signals\n",
    "plt.subplot(1, 2, 2)\n",
    "for column in padded_trace.columns[3:]:  # Only control signals\n",
    "    plt.plot(range(len(padded_trace)), padded_trace[column],\n",
    "             marker='o', label=column)\n",
    "plt.axvline(x=len(original_trace)-0.5, color='r', linestyle='--',\n",
    "            label='Padding Boundary')\n",
    "plt.title('Control Signals')\n",
    "plt.xlabel('Step')\n",
    "plt.ylabel('Value')\n",
    "plt.grid(True)\n",
    "plt.legend()\n",
    "\n",
    "plt.tight_layout()\n",
    "plt.show()"
   ]
  },
  {
   "cell_type": "markdown",
   "metadata": {},
   "source": [
    "## Why Pad to Power of Two?\n",
    "\n",
    "1. **FFT Efficiency**:\n",
    "   - FFT algorithm works most efficiently on sequences with power-of-two length\n",
    "   - Algorithm complexity O(n log n) instead of O(n²) for regular DFT\n",
    "\n",
    "2. **Structural Advantages**:\n",
    "   - Simplifies interpolation algorithm implementation\n",
    "   - Enables efficient bit operations\n",
    "   - Facilitates parallel processing\n",
    "\n",
    "3. **STARK Protocol Requirements**:\n",
    "   - Some cryptographic operations require working with sequences of specific lengths\n",
    "   - Zero padding doesn't affect proof correctness\n",
    "\n",
    "In the next lesson, we'll examine how this padded trace is used to construct trace polynomials."
   ]
  }
 ],
 "metadata": {
  "kernelspec": {
   "display_name": "Python 3",
   "language": "python",
   "name": "python3"
  },
  "language_info": {
   "codemirror_mode": {
    "name": "ipython",
    "version": 3
   },
   "file_extension": ".py",
   "mimetype": "text/x-python",
   "name": "python",
   "nbconvert_exporter": "python",
   "pygments_lexer": "ipython3",
   "version": "3.8.0"
  }
 },
 "nbformat": 4,
 "nbformat_minor": 4
}
