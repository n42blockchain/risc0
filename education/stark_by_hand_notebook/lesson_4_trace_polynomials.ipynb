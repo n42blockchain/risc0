{
 "cells": [
  {
   "cell_type": "markdown",
   "metadata": {},
   "source": [
    "# Lesson 4: Constructing Trace Polynomials\n",
    "\n",
    "In this lesson, we'll examine how trace data is transformed into polynomials. This is a key step in creating a STARK, as it allows us to work with trace data in algebraic form."
   ]
  },
  {
   "cell_type": "code",
   "execution_count": null,
   "metadata": {},
   "outputs": [],
   "source": [
    "import numpy as np\n",
    "import matplotlib.pyplot as plt\n",
    "from numpy.polynomial import polynomial as P\n",
    "from scipy.interpolate import lagrange\n",
    "\n",
    "def create_trace_polynomial(values, domain):\n",
    "    \"\"\"Creates a polynomial through Lagrange interpolation.\n",
    "    \n",
    "    Args:\n",
    "        values (np.array): Trace values\n",
    "        domain (np.array): Domain points\n",
    "        \n",
    "    Returns:\n",
    "        np.poly1d: Interpolation polynomial\n",
    "    \"\"\"\n",
    "    return lagrange(domain, values)"
   ]
  },
  {
   "cell_type": "markdown",
   "metadata": {},
   "source": [
    "## Creating Polynomials for our Fibonacci Trace"
   ]
  },
  {
   "cell_type": "code",
   "execution_count": null,
   "metadata": {},
   "outputs": [],
   "source": [
    "# Import functions from previous lessons\n",
    "from lesson_1_execution_trace import create_fibonacci_trace\n",
    "from lesson_3_padding_trace import pad_trace_to_power_of_two\n",
    "\n",
    "# Create and pad trace\n",
    "trace = create_fibonacci_trace(3, 5)\n",
    "padded_trace = pad_trace_to_power_of_two(trace)\n",
    "\n",
    "# Create domain for interpolation\n",
    "n_points = len(padded_trace)\n",
    "domain = np.linspace(-1, 1, n_points)\n",
    "\n",
    "# Create polynomials for each column\n",
    "polynomials = {}\n",
    "for column in padded_trace.columns[:3]:  # Only for registers\n",
    "    values = padded_trace[column].values\n",
    "    poly = create_trace_polynomial(values, domain)\n",
    "    polynomials[column] = poly\n",
    "\n",
    "# Visualization\n",
    "plt.figure(figsize=(15, 5))\n",
    "\n",
    "# Plot original points and polynomials\n",
    "x_fine = np.linspace(-1, 1, 1000)\n",
    "for column, poly in polynomials.items():\n",
    "    plt.plot(domain, padded_trace[column], 'o', label=f'{column} (points)')\n",
    "    plt.plot(x_fine, poly(x_fine), '-', label=f'{column} (polynomial)')\n",
    "\n",
    "plt.title('Trace Polynomials')\n",
    "plt.xlabel('Domain')\n",
    "plt.ylabel('Value')\n",
    "plt.grid(True)\n",
    "plt.legend()\n",
    "plt.show()"
   ]
  },
  {
   "cell_type": "markdown",
   "metadata": {},
   "source": [
    "## Verifying Polynomial Properties"
   ]
  },
  {
   "cell_type": "code",
   "execution_count": null,
   "metadata": {},
   "outputs": [],
   "source": [
    "def verify_polynomial_properties(poly, values, domain, name):\n",
    "    \"\"\"Verifies properties of a polynomial.\n",
    "    \n",
    "    Args:\n",
    "        poly: Polynomial\n",
    "        values: Original values\n",
    "        domain: Domain points\n",
    "        name: Polynomial name\n",
    "    \"\"\"\n",
    "    # Check that polynomial passes through all points\n",
    "    interpolation_error = np.max(np.abs(poly(domain) - values))\n",
    "    print(f\"{name}:\")\n",
    "    print(f\"Maximum interpolation error: {interpolation_error:.2e}\")\n",
    "    print(f\"Polynomial degree: {len(poly.coef) - 1}\\n\")\n",
    "\n",
    "# Check each polynomial\n",
    "for column, poly in polynomials.items():\n",
    "    values = padded_trace[column].values\n",
    "    verify_polynomial_properties(poly, values, domain, column)"
   ]
  },
  {
   "cell_type": "markdown",
   "metadata": {},
   "source": [
    "## Important Notes\n",
    "\n",
    "1. **Polynomial Degrees**:\n",
    "   - Each polynomial's degree is at most n-1, where n is the padded trace length\n",
    "   - This is important for subsequent operations' efficiency\n",
    "\n",
    "2. **Interpolation Accuracy**:\n",
    "   - Polynomials exactly pass through all trace points\n",
    "   - This ensures all execution information is preserved\n",
    "\n",
    "3. **Use in STARK**:\n",
    "   - Polynomial representation enables efficient constraint checking\n",
    "   - Facilitates application of cryptographic primitives\n",
    "\n",
    "In the next lesson, we'll examine how these polynomials are used to create ZK commitments."
   ]
  }
 ],
 "metadata": {
  "kernelspec": {
   "display_name": "Python 3",
   "language": "python",
   "name": "python3"
  },
  "language_info": {
   "codemirror_mode": {
    "name": "ipython",
    "version": 3
   },
   "file_extension": ".py",
   "mimetype": "text/x-python",
   "name": "python",
   "nbconvert_exporter": "python",
   "pygments_lexer": "ipython3",
   "version": "3.8.0"
  }
 },
 "nbformat": 4,
 "nbformat_minor": 4
}
