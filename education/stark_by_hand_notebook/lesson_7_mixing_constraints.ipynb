{
 "cells": [
  {
   "cell_type": "markdown",
   "metadata": {},
   "source": [
    "# Lesson 7: Mixing Polynomial Constraints\n",
    "\n",
    "In this lesson, we'll examine how different polynomial constraints are combined into a single polynomial using random linear combination technique."
   ]
  },
  {
   "cell_type": "code",
   "execution_count": null,
   "metadata": {},
   "source": [
    "import numpy as np\n",
    "from sympy import symbols, Poly, expand\n",
    "import matplotlib.pyplot as plt\n",
    "\n",
    "def create_mixed_constraint(constraints, mixing_coefficients):\n",
    "    \"\"\"Creates a mixed constraint polynomial.\n",
    "    \n",
    "    Args:\n",
    "        constraints: List of constraint polynomials\n",
    "        mixing_coefficients: List of mixing coefficients\n",
    "        \n",
    "    Returns:\n",
    "        sympy.Poly: Mixed polynomial\n",
    "    \"\"\"\n",
    "    x = symbols('x')\n",
    "    mixed = sum(c * p for c, p in zip(mixing_coefficients, constraints))\n",
    "    return Poly(mixed, x)"
   ]
  },
  {
   "cell_type": "markdown",
   "metadata": {},
   "source": [
    "## Creating Multiple Constraints"
   ]
  },
  {
   "cell_type": "code",
   "execution_count": null,
   "metadata": {},
   "source": [
    "# Import functions from previous lessons\n",
    "from lesson_6_constraint_polynomials import create_constraint_polynomial\n",
    "\n",
    "def create_multiple_constraints(reg1, reg2, reg3):\n",
    "    \"\"\"Creates multiple constraint polynomials.\n",
    "    \n",
    "    Args:\n",
    "        reg1, reg2, reg3: Register values\n",
    "        \n",
    "    Returns:\n",
    "        list: List of constraint polynomials\n",
    "    \"\"\"\n",
    "    constraints = [\n",
    "        create_constraint_polynomial(reg1, reg2, reg3),  # Main Fibonacci rule\n",
    "        Poly(reg1 * reg2 - reg3, symbols('x')),  # Additional constraint\n",
    "        Poly(reg1**2 - reg2, symbols('x'))  # Another constraint\n",
    "    ]\n",
    "    return constraints\n",
    "\n",
    "# Create example values\n",
    "reg1, reg2, reg3 = 3, 5, 8\n",
    "constraints = create_multiple_constraints(reg1, reg2, reg3)\n",
    "\n",
    "# Generate random mixing coefficients\n",
    "np.random.seed(42)  # For reproducibility\n",
    "mixing_coefficients = np.random.rand(len(constraints))\n",
    "\n",
    "# Create mixed polynomial\n",
    "mixed_constraint = create_mixed_constraint(constraints, mixing_coefficients)"
   ]
  },
  {
   "cell_type": "markdown",
   "metadata": {},
   "source": [
    "## Visualizing the Mixing Process"
   ]
  },
  {
   "cell_type": "code",
   "execution_count": null,
   "metadata": {},
   "source": [
    "def evaluate_poly(poly, x):\n",
    "    \"\"\"Evaluates polynomial at a point.\"\"\"\n",
    "    return float(poly.eval(x))\n",
    "\n",
    "# Create points for visualization\n",
    "x = np.linspace(-2, 2, 1000)\n",
    "\n",
    "plt.figure(figsize=(15, 10))\n",
    "\n",
    "# Plot original constraints\n",
    "plt.subplot(2, 1, 1)\n",
    "for i, (constraint, coef) in enumerate(zip(constraints, mixing_coefficients)):\n",
    "    y = [evaluate_poly(constraint, xi) for xi in x]\n",
    "    plt.plot(x, y, label=f'Constraint {i+1} (coef = {coef:.2f})')\n",
    "\n",
    "plt.title('Original Constraint Polynomials')\n",
    "plt.xlabel('x')\n",
    "plt.ylabel('Value')\n",
    "plt.grid(True)\n",
    "plt.legend()\n",
    "\n",
    "# Plot mixed constraint\n",
    "plt.subplot(2, 1, 2)\n",
    "y_mixed = [evaluate_poly(mixed_constraint, xi) for xi in x]\n",
    "plt.plot(x, y_mixed, 'r-', label='Mixed Constraint')\n",
    "\n",
    "plt.title('Mixed Constraint Polynomial')\n",
    "plt.xlabel('x')\n",
    "plt.ylabel('Value')\n",
    "plt.grid(True)\n",
    "plt.legend()\n",
    "\n",
    "plt.tight_layout()\n",
    "plt.show()"
   ]
  },
  {
   "cell_type": "markdown",
   "metadata": {},
   "source": [
    "## Analyzing Mixed Polynomial Properties"
   ]
  },
  {
   "cell_type": "code",
   "execution_count": null,
   "metadata": {},
   "source": [
    "def analyze_mixed_polynomial(mixed_constraint, constraints):\n",
    "    \"\"\"Analyzes properties of the mixed polynomial.\"\"\"\n",
    "    print(\"Mixed polynomial analysis:\")\n",
    "    print(f\"\\nMixed polynomial degree: {mixed_constraint.degree()}\")\n",
    "    print(\"\\nOriginal polynomial degrees:\")\n",
    "    for i, constraint in enumerate(constraints):\n",
    "        print(f\"Constraint {i+1}: {constraint.degree()}\")\n",
    "        \n",
    "    # Check linear independence\n",
    "    print(\"\\nLinear independence check:\")\n",
    "    x_test = np.random.rand(len(constraints))\n",
    "    values = np.array([evaluate_poly(c, x_test[i]) for i, c in enumerate(constraints)])\n",
    "    rank = np.linalg.matrix_rank(values.reshape(-1, 1))\n",
    "    print(f\"Value matrix rank: {rank} out of {len(constraints)}\")\n",
    "\n",
    "# Analyze properties\n",
    "analyze_mixed_polynomial(mixed_constraint, constraints)"
   ]
  },
  {
   "cell_type": "markdown",
   "metadata": {},
   "source": [
    "## Important Aspects of Constraint Mixing\n",
    "\n",
    "1. **Mixing Advantages**:\n",
    "   - Reduces number of checks\n",
    "   - Preserves information about all constraints\n",
    "   - Enhances cryptographic security\n",
    "\n",
    "2. **Coefficient Selection**:\n",
    "   - Coefficients must be random\n",
    "   - Chosen by verifier\n",
    "   - Impact proof security\n",
    "\n",
    "3. **Practical Considerations**:\n",
    "   - Mixed polynomial degree doesn't exceed maximum original degree\n",
    "   - Must consider numerical stability\n",
    "   - Important to maintain linear independence\n",
    "\n",
    "In the next lesson, we'll examine how mixed constraints are used in the core part of the STARK protocol."
   ]
  }
 ],
 "metadata": {
  "kernelspec": {
   "display_name": "Python 3",
   "language": "python",
   "name": "python3"
  },
  "language_info": {
   "codemirror_mode": {
    "name": "ipython",
    "version": 3
   },
   "file_extension": ".py",
   "mimetype": "text/x-python",
   "name": "python",
   "nbconvert_exporter": "python",
   "pygments_lexer": "ipython3",
   "version": "3.8.0"
  }
 },
 "nbformat": 4,
 "nbformat_minor": 4
}
