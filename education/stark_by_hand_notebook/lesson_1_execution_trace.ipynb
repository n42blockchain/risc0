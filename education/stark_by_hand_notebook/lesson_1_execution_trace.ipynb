{
 "cells": [
  {
   "cell_type": "markdown",
   "metadata": {},
   "source": [
    "# Lesson 1: Execution Trace\n",
    "\n",
    "When any code executes in the RISC Zero virtual machine, each step of that execution is recorded in an Execution Trace.\n",
    "\n",
    "In this lesson, we'll look at a simplified example: computing 4 steps of a Fibonacci sequence modulo 97, using two user-specified input values."
   ]
  },
  {
   "cell_type": "code",
   "execution_count": null,
   "metadata": {},
   "source": [
    "import numpy as np\n",
    "import pandas as pd\n",
    "import matplotlib.pyplot as plt\n",
    "\n",
    "def create_fibonacci_trace(a0, a1, steps=4, modulus=97):\n",
    "    \"\"\"Creates an execution trace for the Fibonacci sequence.\n",
    "    \n",
    "    Args:\n",
    "        a0 (int): First initial value\n",
    "        a1 (int): Second initial value\n",
    "        steps (int): Number of steps\n",
    "        modulus (int): Modulus for calculations\n",
    "        \n",
    "    Returns:\n",
    "        pd.DataFrame: Execution trace\n",
    "    \"\"\"\n",
    "    # Initialize data\n",
    "    data = {\n",
    "        'Register 1': [a0] + [0] * (steps-1),\n",
    "        'Register 2': [a1] + [0] * (steps-1),\n",
    "        'Register 3': [0] * steps,\n",
    "        'Initialize': [1] + [0] * (steps-1),\n",
    "        'Execute': [0] + [1] * (steps-2) + [0],\n",
    "        'Terminate': [0] * (steps-1) + [1]\n",
    "    }\n",
    "    \n",
    "    # Calculate Fibonacci sequence\n",
    "    for i in range(1, steps):\n",
    "        data['Register 1'][i] = data['Register 2'][i-1]\n",
    "        data['Register 2'][i] = data['Register 3'][i-1]\n",
    "        data['Register 3'][i] = (data['Register 1'][i-1] + data['Register 2'][i-1]) % modulus\n",
    "    \n",
    "    return pd.DataFrame(data)"
   ]
  },
  {
   "cell_type": "markdown",
   "metadata": {},
   "source": [
    "Let's create an execution trace for a specific example:"
   ]
  },
  {
   "cell_type": "code",
   "execution_count": null,
   "metadata": {},
   "source": [
    "# Create trace with initial values 3 and 5\n",
    "trace = create_fibonacci_trace(3, 5)\n",
    "print(\"Execution Trace:\")\n",
    "display(trace)\n",
    "\n",
    "# Visualize the trace\n",
    "plt.figure(figsize=(12, 6))\n",
    "for column in trace.columns[:3]:  # Only for registers\n",
    "    plt.plot(trace.index, trace[column], marker='o', label=column)\n",
    "plt.title('Register Values During Execution')\n",
    "plt.xlabel('Step')\n",
    "plt.ylabel('Value')\n",
    "plt.grid(True)\n",
    "plt.legend()\n",
    "plt.show()"
   ]
  },
  {
   "cell_type": "markdown",
   "metadata": {},
   "source": [
    "## Understanding the Execution Trace\n",
    "\n",
    "In our example, the trace consists of 6 columns:\n",
    "\n",
    "1. **Data Columns** (first three columns):\n",
    "   - Each of the first three columns records the internal state of a register at each clock cycle from initialization until termination\n",
    "   \n",
    "2. **Control Columns** (last three columns):\n",
    "   - Used to mark initialization and termination points\n",
    "\n",
    "### In the full RISC Zero protocol:\n",
    "\n",
    "- **Data Columns** contain the RISC-V processor state, including:\n",
    "  - ISA registers\n",
    "  - Program counter\n",
    "  - Various microarchitecture details\n",
    "    - Instruction decoding data\n",
    "    - ALU registers\n",
    "    - etc.\n",
    "\n",
    "- **Control Columns** handle:\n",
    "  - System initialization\n",
    "  - Shutdown\n",
    "  - Page table setup with program memory image\n",
    "  - Other control signals that don't depend on program execution"
   ]
  }
 ],
 "metadata": {
  "kernelspec": {
   "display_name": "Python 3",
   "language": "python",
   "name": "python3"
  },
  "language_info": {
   "codemirror_mode": {
    "name": "ipython",
    "version": 3
   },
   "file_extension": ".py",
   "mimetype": "text/x-python",
   "name": "python",
   "nbconvert_exporter": "python",
   "pygments_lexer": "ipython3",
   "version": "3.8.0"
  }
 },
 "nbformat": 4,
 "nbformat_minor": 4
}
