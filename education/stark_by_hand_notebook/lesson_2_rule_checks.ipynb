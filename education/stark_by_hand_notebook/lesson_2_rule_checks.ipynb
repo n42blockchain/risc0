{
 "cells": [
  {
   "cell_type": "markdown",
   "metadata": {},
   "source": [
    "# Lesson 2: Rule Checks to Validate a Computation\n",
    "\n",
    "In this lesson, we'll introduce a number of rule-checking cells to demonstrate the validity of execution. Using the Fibonacci number generation example, we'll show six specific rules."
   ]
  },
  {
   "cell_type": "code",
   "execution_count": null,
   "metadata": {},
   "outputs": [],
   "source": [
    "import numpy as np\n",
    "import pandas as pd\n",
    "import matplotlib.pyplot as plt\n",
    "from sympy import symbols, expand\n",
    "\n",
    "# Import function from previous lesson\n",
    "from lesson_1_execution_trace import create_fibonacci_trace"
   ]
  },
  {
   "cell_type": "markdown",
   "metadata": {},
   "source": [
    "## Rule Checks for Fibonacci Sequence\n",
    "\n",
    "Each rule check is written as a polynomial over the data columns. For example, the rule a + b - c = 0 verifies that a + b = c."
   ]
  },
  {
   "cell_type": "code",
   "execution_count": null,
   "metadata": {},
   "outputs": [],
   "source": [
    "def check_fibonacci_rules(trace):\n",
    "    \"\"\"Checks rules for the Fibonacci sequence.\n",
    "    \n",
    "    Args:\n",
    "        trace (pd.DataFrame): Execution trace\n",
    "        \n",
    "    Returns:\n",
    "        dict: Rule check results\n",
    "    \"\"\"\n",
    "    rules = {\n",
    "        'Rule 1: Sum of Previous': [],\n",
    "        'Rule 2: Initialization': [],\n",
    "        'Rule 3: Termination': [],\n",
    "        'Rule 4: Step Sequence': [],\n",
    "        'Rule 5: Modular Arithmetic': [],\n",
    "        'Rule 6: Transition Correctness': []\n",
    "    }\n",
    "    \n",
    "    for i in range(len(trace)):\n",
    "        # Rule 1: Next number equals sum of previous two\n",
    "        if i > 0:\n",
    "            sum_check = (trace['Register 3'][i] - \n",
    "                        (trace['Register 1'][i-1] + trace['Register 2'][i-1]) % 97)\n",
    "            rules['Rule 1: Sum of Previous'].append(sum_check == 0)\n",
    "            \n",
    "        # Rule 2: Check initialization\n",
    "        init_check = trace['Initialize'][i] * (1 - trace['Execute'][i] - trace['Terminate'][i])\n",
    "        rules['Rule 2: Initialization'].append(init_check == 0)\n",
    "        \n",
    "        # Other rules...\n",
    "        \n",
    "    return rules"
   ]
  },
  {
   "cell_type": "code",
   "execution_count": null,
   "metadata": {},
   "outputs": [],
   "source": [
    "# Create trace and check rules\n",
    "trace = create_fibonacci_trace(3, 5)\n",
    "rule_results = check_fibonacci_rules(trace)\n",
    "\n",
    "# Visualize check results\n",
    "plt.figure(figsize=(12, 6))\n",
    "for i, (rule, results) in enumerate(rule_results.items()):\n",
    "    plt.plot(range(len(results)), [int(x) for x in results], \n",
    "             marker='o', label=rule)\n",
    "\n",
    "plt.title('Rule Check Results')\n",
    "plt.xlabel('Execution Step')\n",
    "plt.ylabel('Satisfied (1) / Not Satisfied (0)')\n",
    "plt.grid(True)\n",
    "plt.legend(bbox_to_anchor=(1.05, 1), loc='upper left')\n",
    "plt.tight_layout()\n",
    "plt.show()"
   ]
  },
  {
   "cell_type": "markdown",
   "metadata": {},
   "source": [
    "## Polynomial Representation of Rules\n",
    "\n",
    "Each rule can be represented as a polynomial. Let's examine this with an example:"
   ]
  },
  {
   "cell_type": "code",
   "execution_count": null,
   "metadata": {},
   "outputs": [],
   "source": [
    "# Create symbolic variables\n",
    "a, b, c = symbols('a b c')\n",
    "\n",
    "# Example polynomial for Fibonacci rule\n",
    "fibonacci_polynomial = expand(a + b - c)\n",
    "print(f\"Fibonacci rule polynomial: {fibonacci_polynomial} = 0\")\n",
    "\n",
    "# Substitute concrete values\n",
    "values = {'a': 3, 'b': 5, 'c': 8}\n",
    "result = fibonacci_polynomial.subs(values)\n",
    "print(f\"\\nCheck for values {values}:\")\n",
    "print(f\"Result: {result} (should be 0)\")"
   ]
  },
  {
   "cell_type": "markdown",
   "metadata": {},
   "source": [
    "## Important Notes\n",
    "\n",
    "1. Each rule check must be satisfied at every execution step\n",
    "2. Rules form a constraint system that guarantees computation correctness\n",
    "3. In the actual RISC Zero system, rules are much more complex and cover all aspects of RISC-V instruction execution\n",
    "\n",
    "In the next lesson, we'll examine how these rules are used in constructing the STARK proof."
   ]
  }
 ],
 "metadata": {
  "kernelspec": {
   "display_name": "Python 3",
   "language": "python",
   "name": "python3"
  },
  "language_info": {
   "codemirror_mode": {
    "name": "ipython",
    "version": 3
   },
   "file_extension": ".py",
   "mimetype": "text/x-python",
   "name": "python",
   "nbconvert_exporter": "python",
   "pygments_lexer": "ipython3",
   "version": "3.8.0"
  }
 },
 "nbformat": 4,
 "nbformat_minor": 4
}
