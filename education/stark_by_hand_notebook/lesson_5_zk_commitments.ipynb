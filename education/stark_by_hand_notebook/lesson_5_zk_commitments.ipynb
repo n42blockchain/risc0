{
 "cells": [
  {
   "cell_type": "markdown",
   "metadata": {},
   "source": [
    "# Lesson 5: ZK Commitments of Trace Data\n",
    "\n",
    "In this lesson, we'll examine how cryptographic commitments are created for trace polynomials. This is a key element in ensuring the zero-knowledge property of STARK."
   ]
  },
  {
   "cell_type": "code",
   "execution_count": null,
   "metadata": {},
   "source": [
    "import numpy as np\n",
    "import hashlib\n",
    "from dataclasses import dataclass\n",
    "\n",
    "@dataclass\n",
    "class MerkleNode:\n",
    "    \"\"\"A node in the Merkle tree.\"\"\"\n",
    "    hash: bytes\n",
    "    left: 'MerkleNode' = None\n",
    "    right: 'MerkleNode' = None\n",
    "\n",
    "def hash_value(value):\n",
    "    \"\"\"Hashes a value using SHA-256.\"\"\"\n",
    "    return hashlib.sha256(str(value).encode()).digest()\n",
    "\n",
    "def create_merkle_tree(values):\n",
    "    \"\"\"Creates a Merkle tree from a list of values.\n",
    "    \n",
    "    Args:\n",
    "        values: List of values to hash\n",
    "        \n",
    "    Returns:\n",
    "        MerkleNode: Root of the tree\n",
    "    \"\"\"\n",
    "    if len(values) == 0:\n",
    "        return None\n",
    "    \n",
    "    # Create leaf nodes\n",
    "    leaves = [MerkleNode(hash_value(v)) for v in values]\n",
    "    \n",
    "    # Build tree bottom-up\n",
    "    current_level = leaves\n",
    "    while len(current_level) > 1:\n",
    "        next_level = []\n",
    "        for i in range(0, len(current_level), 2):\n",
    "            left = current_level[i]\n",
    "            right = current_level[i + 1] if i + 1 < len(current_level) else left\n",
    "            combined_hash = hashlib.sha256(left.hash + right.hash).digest()\n",
    "            parent = MerkleNode(combined_hash, left, right)\n",
    "            next_level.append(parent)\n",
    "        current_level = next_level\n",
    "    \n",
    "    return current_level[0]"
   ]
  },
  {
   "cell_type": "markdown",
   "metadata": {},
   "source": [
    "## Creating Commitments for our Trace"
   ]
  },
  {
   "cell_type": "code",
   "execution_count": null,
   "metadata": {},
   "source": [
    "# Import functions from previous lessons\n",
    "from lesson_1_execution_trace import create_fibonacci_trace\n",
    "from lesson_3_padding_trace import pad_trace_to_power_of_two\n",
    "from lesson_4_trace_polynomials import create_trace_polynomial\n",
    "\n",
    "# Create trace and polynomials\n",
    "trace = create_fibonacci_trace(3, 5)\n",
    "padded_trace = pad_trace_to_power_of_two(trace)\n",
    "\n",
    "# Create commitments for each column\n",
    "commitments = {}\n",
    "for column in padded_trace.columns[:3]:  # Only for registers\n",
    "    values = padded_trace[column].values\n",
    "    merkle_root = create_merkle_tree(values)\n",
    "    commitments[column] = merkle_root.hash.hex()[:16] + '...'\n",
    "\n",
    "print(\"Commitments for trace columns:\")\n",
    "for column, commitment in commitments.items():\n",
    "    print(f\"{column}: {commitment}\")"
   ]
  },
  {
   "cell_type": "markdown",
   "metadata": {},
   "source": [
    "## Creating and Verifying Membership Proofs"
   ]
  },
  {
   "cell_type": "code",
   "execution_count": null,
   "metadata": {},
   "source": [
    "def create_merkle_proof(tree, index, values):\n",
    "    \"\"\"Creates a membership proof for an element.\n",
    "    \n",
    "    Args:\n",
    "        tree: Merkle tree root\n",
    "        index: Element index\n",
    "        values: List of all values\n",
    "        \n",
    "    Returns:\n",
    "        list: Proof path\n",
    "    \"\"\"\n",
    "    proof = []\n",
    "    current_level_size = len(values)\n",
    "    current_index = index\n",
    "    current_node = tree\n",
    "    \n",
    "    while current_level_size > 1:\n",
    "        is_right = current_index % 2 == 1\n",
    "        sibling = current_node.right if not is_right else current_node.left\n",
    "        proof.append((sibling.hash.hex()[:16] + '...', 'right' if is_right else 'left'))\n",
    "        \n",
    "        current_node = current_node.left if not is_right else current_node.right\n",
    "        current_index //= 2\n",
    "        current_level_size = (current_level_size + 1) // 2\n",
    "        \n",
    "    return proof\n",
    "\n",
    "# Create and verify proof for a specific value\n",
    "column = 'Register 1'\n",
    "index = 2\n",
    "value = padded_trace[column].values[index]\n",
    "merkle_root = create_merkle_tree(padded_trace[column].values)\n",
    "proof = create_merkle_proof(merkle_root, index, padded_trace[column].values)\n",
    "\n",
    "print(f\"\\nProof for {column}[{index}] = {value}:\")\n",
    "for hash_value, direction in proof:\n",
    "    print(f\"- {direction}: {hash_value}\")"
   ]
  },
  {
   "cell_type": "markdown",
   "metadata": {},
   "source": [
    "## Important Aspects of ZK Commitments\n",
    "\n",
    "1. **Commitment Properties**:\n",
    "   - **Binding**: Cannot change data after commitment\n",
    "   - **Hiding**: Commitment doesn't reveal data\n",
    "   - **Compactness**: Commitment size independent of data size\n",
    "\n",
    "2. **Use in STARK**:\n",
    "   - Allows verifier to check parts of trace without access to all data\n",
    "   - Ensures zero-knowledge property\n",
    "   - Enables efficient verification of large traces\n",
    "\n",
    "3. **Efficiency**:\n",
    "   - Merkle tree creation: O(n)\n",
    "   - Proof size: O(log n)\n",
    "   - Verification time: O(log n)\n",
    "\n",
    "In the next lesson, we'll examine how these commitments are used together with polynomial constraints."
   ]
  }
 ],
 "metadata": {
  "kernelspec": {
   "display_name": "Python 3",
   "language": "python",
   "name": "python3"
  },
  "language_info": {
   "codemirror_mode": {
    "name": "ipython",
    "version": 3
   },
   "file_extension": ".py",
   "mimetype": "text/x-python",
   "name": "python",
   "nbconvert_exporter": "python",
   "pygments_lexer": "ipython3",
   "version": "3.8.0"
  }
 },
 "nbformat": 4,
 "nbformat_minor": 4
}
